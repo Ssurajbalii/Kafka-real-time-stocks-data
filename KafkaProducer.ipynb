{
 "cells": [
  {
   "cell_type": "code",
   "execution_count": 1,
   "id": "ad23d19c-c6a6-4a28-8152-2d2409172faa",
   "metadata": {},
   "outputs": [],
   "source": [
    "import pandas as pd\n",
    "from kafka import KafkaProducer\n",
    "from time import sleep\n",
    "from json import dumps\n",
    "import json\n",
    "import requests\n",
    "import yfinance as yf\n",
    "import time"
   ]
  },
  {
   "cell_type": "code",
   "execution_count": 2,
   "id": "a4c1e3dc-c549-4f6b-9f67-51ffe953ac32",
   "metadata": {},
   
   ],
   "source": [
    "producer = KafkaProducer(bootstrap_servers=['54.196.73.251:9092'],\n",
    "                         value_serializer=lambda x: \n",
    "                         dumps(x).encode('utf-8'))"
   ]
  },
  {
   "cell_type": "code",
   "execution_count": null,
   "id": "ba1ce2e7-0520-4225-a7ab-5da84d8f92c7",
   "metadata": {},
   "outputs": [],
   "source": [
    "producer.send('project_1_stock', value={'hii':'kjjji'})"
   ]
  },
  {
   "cell_type": "code",
   "execution_count": null,
   "id": "2beb88b4-3b82-437b-aa90-ea55d1a6838b",
   "metadata": {},
   "outputs": [],
   "source": [
    "def get_jsonparsed_data(url):\n",
    "    response = requests.get(url)\n",
    "    if response.status_code == 200:\n",
    "        return response.json()\n",
    "    else:\n",
    "        raise Exception(f\"Failed to fetch data from {url}. Status code: {response.status_code}\")"
   ]
  },
  {
   "cell_type": "code",
   "execution_count": null,
   "id": "a679c72c-429b-45ed-a3f7-673e16354ba5",
   "metadata": {},
   "outputs": [],
   "source": [
    "tkr = yf.Ticker(\"MSFT\")"
   ]
  },
  {
   "cell_type": "code",
   "execution_count": null,
   "id": "533cea59-976c-44af-8441-9886e1c934de",
   "metadata": {},
   "outputs": [],
   "source": [
    "df = tkr.history(period='1d', interval='1m')"
   ]
  },
  {
   "cell_type": "code",
   "execution_count": null,
   "id": "4d420ebd-c9d2-4e2d-bbd0-e9de166913be",
   "metadata": {},
   "outputs": [],
   "source": [
    "df.head()"
   ]
  },
  {
   "cell_type": "code",
   "execution_count": null,
   "id": "74d7de58-4d9c-46cc-b6f2-bf4c6a6de9ed",
   "metadata": {},
   "outputs": [],
   "source": [
    "while True:\n",
    "    for index, row in live_data.iterrows():\n",
    "         message = {\n",
    "            \"Time\": str(index),\n",
    "            \"Open\": row['Open'],\n",
    "            \"High\": row['High'],\n",
    "            \"Low\": row['Low'],\n",
    "            \"Close\": row['Close'],\n",
    "            \"Volume\": row['Volume']\n",
    "        }\n",
    "         producer.send('project_1_stock', value = message)\n",
    "         # print(message)\n",
    "         time.sleep(1)            \n",
    "        \n",
    "        \n",
    "        # producer.send('project_1_stock', value = df\n",
    "    # producer.send('project_1_stock', value = df.sample(1).to_dict(orient= 'records')[0])"
   ]
  },
  {
   "cell_type": "code",
   "execution_count": null,
   "id": "1cfbafbb-ad3c-4f8a-8bae-c6b5b20c7dfc",
   "metadata": {},
   "outputs": [],
   "source": [
    "producer.flush()"
   ]
  }
 ],
 "metadata": {
  "kernelspec": {
   "display_name": "Python 3 (ipykernel)",
   "language": "python",
   "name": "python3"
  },
  "language_info": {
   "codemirror_mode": {
    "name": "ipython",
    "version": 3
   },
   "file_extension": ".py",
   "mimetype": "text/x-python",
   "name": "python",
   "nbconvert_exporter": "python",
   "pygments_lexer": "ipython3",
   "version": "3.11.5"
  }
 },
 "nbformat": 4,
 "nbformat_minor": 5
}
