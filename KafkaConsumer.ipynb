{
 "cells": [
  {
   "cell_type": "code",
   "execution_count": 1,
   "id": "ad61edd6-9269-4d1b-b573-09696eab96fa",
   "metadata": {},
   "outputs": [],
   "source": [
    "from kafka import KafkaConsumer\n",
    "from time import sleep\n",
    "from json import dumps,loads\n",
    "import json\n",
    "from s3fs import S3FileSystem"
   ]
  },
  {
   "cell_type": "code",
   "execution_count": 2,
   "id": "7d5ea907-23f4-4bef-8fee-0a82aab36e5e",
   "metadata": {},
   "outputs": [],
   "source": [
    "consumer = KafkaConsumer(\n",
    "    'project_1_stock',\n",
    "     bootstrap_servers=['54.196.73.251:9092'], \n",
    "    value_deserializer=lambda x: loads(x.decode('utf-8')))"
   ]
  },
  {
   "cell_type": "code",
   "execution_count": 3,
   "id": "7c6a484b-c8a0-4aa6-b51e-123db93c947a",
   "metadata": {},
   "outputs": [],
   "source": [
    "s3 = S3FileSystem()"
   ]
  },
  {
   "cell_type": "code",
   "execution_count": null,
   "id": "899c3a95-7eda-46e6-98a3-02bf703ca6f7",
   "metadata": {},
   "outputs": [],
   "source": [
    "for count, message in enumerate(consumer):\n",
    "    # Open the S3 file for writing, each message will be saved as a separate file\n",
    "    with s3.open(f\"s3://kafka-project-stockmarket/stock_market_{count}.json\", 'w') as file:\n",
    "        # Write the Kafka message value to the S3 file\n",
    "        json.dump(message.value, file)"
   ]
  }
 ],
 "metadata": {
  "kernelspec": {
   "display_name": "Python 3 (ipykernel)",
   "language": "python",
   "name": "python3"
  },
  "language_info": {
   "codemirror_mode": {
    "name": "ipython",
    "version": 3
   },
   "file_extension": ".py",
   "mimetype": "text/x-python",
   "name": "python",
   "nbconvert_exporter": "python",
   "pygments_lexer": "ipython3",
   "version": "3.11.5"
  }
 },
 "nbformat": 4,
 "nbformat_minor": 5
}
